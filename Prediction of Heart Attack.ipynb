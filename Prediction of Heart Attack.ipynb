{
 "cells": [
  {
   "cell_type": "code",
   "execution_count": 4,
   "id": "fc3f5345",
   "metadata": {},
   "outputs": [
    {
     "data": {
      "text/html": [
       "<div>\n",
       "<style scoped>\n",
       "    .dataframe tbody tr th:only-of-type {\n",
       "        vertical-align: middle;\n",
       "    }\n",
       "\n",
       "    .dataframe tbody tr th {\n",
       "        vertical-align: top;\n",
       "    }\n",
       "\n",
       "    .dataframe thead th {\n",
       "        text-align: right;\n",
       "    }\n",
       "</style>\n",
       "<table border=\"1\" class=\"dataframe\">\n",
       "  <thead>\n",
       "    <tr style=\"text-align: right;\">\n",
       "      <th></th>\n",
       "      <th>age</th>\n",
       "      <th>sex</th>\n",
       "      <th>cp</th>\n",
       "      <th>trestbps</th>\n",
       "      <th>chol</th>\n",
       "      <th>fbs</th>\n",
       "      <th>restecg</th>\n",
       "      <th>thalach</th>\n",
       "      <th>exang</th>\n",
       "      <th>oldpeak</th>\n",
       "      <th>slope</th>\n",
       "      <th>ca</th>\n",
       "      <th>thal</th>\n",
       "      <th>target</th>\n",
       "    </tr>\n",
       "  </thead>\n",
       "  <tbody>\n",
       "    <tr>\n",
       "      <th>0</th>\n",
       "      <td>63</td>\n",
       "      <td>1</td>\n",
       "      <td>3</td>\n",
       "      <td>145</td>\n",
       "      <td>233</td>\n",
       "      <td>1</td>\n",
       "      <td>0</td>\n",
       "      <td>150</td>\n",
       "      <td>0</td>\n",
       "      <td>2.3</td>\n",
       "      <td>0</td>\n",
       "      <td>0</td>\n",
       "      <td>1</td>\n",
       "      <td>1</td>\n",
       "    </tr>\n",
       "    <tr>\n",
       "      <th>1</th>\n",
       "      <td>37</td>\n",
       "      <td>1</td>\n",
       "      <td>2</td>\n",
       "      <td>130</td>\n",
       "      <td>250</td>\n",
       "      <td>0</td>\n",
       "      <td>1</td>\n",
       "      <td>187</td>\n",
       "      <td>0</td>\n",
       "      <td>3.5</td>\n",
       "      <td>0</td>\n",
       "      <td>0</td>\n",
       "      <td>2</td>\n",
       "      <td>1</td>\n",
       "    </tr>\n",
       "    <tr>\n",
       "      <th>2</th>\n",
       "      <td>41</td>\n",
       "      <td>0</td>\n",
       "      <td>1</td>\n",
       "      <td>130</td>\n",
       "      <td>204</td>\n",
       "      <td>0</td>\n",
       "      <td>0</td>\n",
       "      <td>172</td>\n",
       "      <td>0</td>\n",
       "      <td>1.4</td>\n",
       "      <td>2</td>\n",
       "      <td>0</td>\n",
       "      <td>2</td>\n",
       "      <td>1</td>\n",
       "    </tr>\n",
       "    <tr>\n",
       "      <th>3</th>\n",
       "      <td>56</td>\n",
       "      <td>1</td>\n",
       "      <td>1</td>\n",
       "      <td>120</td>\n",
       "      <td>236</td>\n",
       "      <td>0</td>\n",
       "      <td>1</td>\n",
       "      <td>178</td>\n",
       "      <td>0</td>\n",
       "      <td>0.8</td>\n",
       "      <td>2</td>\n",
       "      <td>0</td>\n",
       "      <td>2</td>\n",
       "      <td>1</td>\n",
       "    </tr>\n",
       "    <tr>\n",
       "      <th>4</th>\n",
       "      <td>57</td>\n",
       "      <td>0</td>\n",
       "      <td>0</td>\n",
       "      <td>120</td>\n",
       "      <td>354</td>\n",
       "      <td>0</td>\n",
       "      <td>1</td>\n",
       "      <td>163</td>\n",
       "      <td>1</td>\n",
       "      <td>0.6</td>\n",
       "      <td>2</td>\n",
       "      <td>0</td>\n",
       "      <td>2</td>\n",
       "      <td>1</td>\n",
       "    </tr>\n",
       "    <tr>\n",
       "      <th>...</th>\n",
       "      <td>...</td>\n",
       "      <td>...</td>\n",
       "      <td>...</td>\n",
       "      <td>...</td>\n",
       "      <td>...</td>\n",
       "      <td>...</td>\n",
       "      <td>...</td>\n",
       "      <td>...</td>\n",
       "      <td>...</td>\n",
       "      <td>...</td>\n",
       "      <td>...</td>\n",
       "      <td>...</td>\n",
       "      <td>...</td>\n",
       "      <td>...</td>\n",
       "    </tr>\n",
       "    <tr>\n",
       "      <th>298</th>\n",
       "      <td>57</td>\n",
       "      <td>0</td>\n",
       "      <td>0</td>\n",
       "      <td>140</td>\n",
       "      <td>241</td>\n",
       "      <td>0</td>\n",
       "      <td>1</td>\n",
       "      <td>123</td>\n",
       "      <td>1</td>\n",
       "      <td>0.2</td>\n",
       "      <td>1</td>\n",
       "      <td>0</td>\n",
       "      <td>3</td>\n",
       "      <td>0</td>\n",
       "    </tr>\n",
       "    <tr>\n",
       "      <th>299</th>\n",
       "      <td>45</td>\n",
       "      <td>1</td>\n",
       "      <td>3</td>\n",
       "      <td>110</td>\n",
       "      <td>264</td>\n",
       "      <td>0</td>\n",
       "      <td>1</td>\n",
       "      <td>132</td>\n",
       "      <td>0</td>\n",
       "      <td>1.2</td>\n",
       "      <td>1</td>\n",
       "      <td>0</td>\n",
       "      <td>3</td>\n",
       "      <td>0</td>\n",
       "    </tr>\n",
       "    <tr>\n",
       "      <th>300</th>\n",
       "      <td>68</td>\n",
       "      <td>1</td>\n",
       "      <td>0</td>\n",
       "      <td>144</td>\n",
       "      <td>193</td>\n",
       "      <td>1</td>\n",
       "      <td>1</td>\n",
       "      <td>141</td>\n",
       "      <td>0</td>\n",
       "      <td>3.4</td>\n",
       "      <td>1</td>\n",
       "      <td>2</td>\n",
       "      <td>3</td>\n",
       "      <td>0</td>\n",
       "    </tr>\n",
       "    <tr>\n",
       "      <th>301</th>\n",
       "      <td>57</td>\n",
       "      <td>1</td>\n",
       "      <td>0</td>\n",
       "      <td>130</td>\n",
       "      <td>131</td>\n",
       "      <td>0</td>\n",
       "      <td>1</td>\n",
       "      <td>115</td>\n",
       "      <td>1</td>\n",
       "      <td>1.2</td>\n",
       "      <td>1</td>\n",
       "      <td>1</td>\n",
       "      <td>3</td>\n",
       "      <td>0</td>\n",
       "    </tr>\n",
       "    <tr>\n",
       "      <th>302</th>\n",
       "      <td>57</td>\n",
       "      <td>0</td>\n",
       "      <td>1</td>\n",
       "      <td>130</td>\n",
       "      <td>236</td>\n",
       "      <td>0</td>\n",
       "      <td>0</td>\n",
       "      <td>174</td>\n",
       "      <td>0</td>\n",
       "      <td>0.0</td>\n",
       "      <td>1</td>\n",
       "      <td>1</td>\n",
       "      <td>2</td>\n",
       "      <td>0</td>\n",
       "    </tr>\n",
       "  </tbody>\n",
       "</table>\n",
       "<p>303 rows × 14 columns</p>\n",
       "</div>"
      ],
      "text/plain": [
       "     age  sex  cp  trestbps  chol  fbs  restecg  thalach  exang  oldpeak  \\\n",
       "0     63    1   3       145   233    1        0      150      0      2.3   \n",
       "1     37    1   2       130   250    0        1      187      0      3.5   \n",
       "2     41    0   1       130   204    0        0      172      0      1.4   \n",
       "3     56    1   1       120   236    0        1      178      0      0.8   \n",
       "4     57    0   0       120   354    0        1      163      1      0.6   \n",
       "..   ...  ...  ..       ...   ...  ...      ...      ...    ...      ...   \n",
       "298   57    0   0       140   241    0        1      123      1      0.2   \n",
       "299   45    1   3       110   264    0        1      132      0      1.2   \n",
       "300   68    1   0       144   193    1        1      141      0      3.4   \n",
       "301   57    1   0       130   131    0        1      115      1      1.2   \n",
       "302   57    0   1       130   236    0        0      174      0      0.0   \n",
       "\n",
       "     slope  ca  thal  target  \n",
       "0        0   0     1       1  \n",
       "1        0   0     2       1  \n",
       "2        2   0     2       1  \n",
       "3        2   0     2       1  \n",
       "4        2   0     2       1  \n",
       "..     ...  ..   ...     ...  \n",
       "298      1   0     3       0  \n",
       "299      1   0     3       0  \n",
       "300      1   2     3       0  \n",
       "301      1   1     3       0  \n",
       "302      1   1     2       0  \n",
       "\n",
       "[303 rows x 14 columns]"
      ]
     },
     "execution_count": 4,
     "metadata": {},
     "output_type": "execute_result"
    }
   ],
   "source": [
    "import pandas as pd\n",
    "from sklearn.feature_selection import RFE\n",
    "from sklearn.svm import SVC\n",
    "from sklearn.tree import DecisionTreeClassifier\n",
    "from sklearn.model_selection import train_test_split\n",
    "from sklearn.preprocessing import OneHotEncoder\n",
    "from sklearn.linear_model import LogisticRegression\n",
    "from sklearn.metrics import accuracy_score\n",
    "from sklearn.model_selection import cross_val_score,KFold\n",
    "from sklearn.naive_bayes import GaussianNB \n",
    "import numpy as np\n",
    "from sklearn.preprocessing import StandardScaler\n",
    "from sklearn.metrics import accuracy_score, precision_score, recall_score, f1_score\n",
    "from sklearn.ensemble import RandomForestClassifier\n",
    "from imblearn.pipeline import Pipeline\n",
    "from skopt import BayesSearchCV\n",
    "from sklearn.compose import make_column_transformer\n",
    "\n",
    "from numpy import mean\n",
    "from sklearn.metrics import confusion_matrix\n",
    "from sklearn.metrics import classification_report\n",
    "from numpy import std\n",
    "from sklearn.compose import ColumnTransformer\n",
    "import xgboost as xgb\n",
    "from sklearn.ensemble import AdaBoostClassifier\n",
    "from sklearn.neighbors import KNeighborsClassifier\n",
    "from sklearn.ensemble import VotingClassifier\n",
    "import matplotlib.pyplot as plt \n",
    "import seaborn as sns \n",
    "from scipy.stats import skew, kurtosis\n",
    "df = pd.read_csv('heart.csv')\n",
    "df\n",
    "\n"
   ]
  },
  {
   "cell_type": "code",
   "execution_count": 10,
   "id": "c2863b2d",
   "metadata": {},
   "outputs": [],
   "source": [
    "df.rename(columns={'target':'heart attack'},inplace=True)"
   ]
  },
  {
   "cell_type": "code",
   "execution_count": 3,
   "id": "d152abeb",
   "metadata": {},
   "outputs": [],
   "source": [
    "X = df.drop(columns = ['heart attack'])\n",
    "y = df['heart attack']"
   ]
  },
  {
   "cell_type": "code",
   "execution_count": 31,
   "id": "aaa36f20",
   "metadata": {
    "collapsed": true
   },
   "outputs": [
    {
     "data": {
      "text/html": [
       "<div>\n",
       "<style scoped>\n",
       "    .dataframe tbody tr th:only-of-type {\n",
       "        vertical-align: middle;\n",
       "    }\n",
       "\n",
       "    .dataframe tbody tr th {\n",
       "        vertical-align: top;\n",
       "    }\n",
       "\n",
       "    .dataframe thead th {\n",
       "        text-align: right;\n",
       "    }\n",
       "</style>\n",
       "<table border=\"1\" class=\"dataframe\">\n",
       "  <thead>\n",
       "    <tr style=\"text-align: right;\">\n",
       "      <th></th>\n",
       "      <th>age</th>\n",
       "      <th>sex</th>\n",
       "      <th>cp</th>\n",
       "      <th>trestbps</th>\n",
       "      <th>chol</th>\n",
       "      <th>fbs</th>\n",
       "      <th>restecg</th>\n",
       "      <th>thalach</th>\n",
       "      <th>exang</th>\n",
       "      <th>oldpeak</th>\n",
       "      <th>slope</th>\n",
       "      <th>ca</th>\n",
       "      <th>thal</th>\n",
       "    </tr>\n",
       "  </thead>\n",
       "  <tbody>\n",
       "    <tr>\n",
       "      <th>count</th>\n",
       "      <td>303.000000</td>\n",
       "      <td>303.000000</td>\n",
       "      <td>303.000000</td>\n",
       "      <td>303.000000</td>\n",
       "      <td>303.000000</td>\n",
       "      <td>303.000000</td>\n",
       "      <td>303.000000</td>\n",
       "      <td>303.000000</td>\n",
       "      <td>303.000000</td>\n",
       "      <td>303.000000</td>\n",
       "      <td>303.000000</td>\n",
       "      <td>303.000000</td>\n",
       "      <td>303.000000</td>\n",
       "    </tr>\n",
       "    <tr>\n",
       "      <th>mean</th>\n",
       "      <td>54.366337</td>\n",
       "      <td>0.683168</td>\n",
       "      <td>0.966997</td>\n",
       "      <td>131.623762</td>\n",
       "      <td>246.264026</td>\n",
       "      <td>0.148515</td>\n",
       "      <td>0.528053</td>\n",
       "      <td>149.646865</td>\n",
       "      <td>0.326733</td>\n",
       "      <td>1.039604</td>\n",
       "      <td>1.399340</td>\n",
       "      <td>0.729373</td>\n",
       "      <td>2.313531</td>\n",
       "    </tr>\n",
       "    <tr>\n",
       "      <th>std</th>\n",
       "      <td>9.082101</td>\n",
       "      <td>0.466011</td>\n",
       "      <td>1.032052</td>\n",
       "      <td>17.538143</td>\n",
       "      <td>51.830751</td>\n",
       "      <td>0.356198</td>\n",
       "      <td>0.525860</td>\n",
       "      <td>22.905161</td>\n",
       "      <td>0.469794</td>\n",
       "      <td>1.161075</td>\n",
       "      <td>0.616226</td>\n",
       "      <td>1.022606</td>\n",
       "      <td>0.612277</td>\n",
       "    </tr>\n",
       "    <tr>\n",
       "      <th>min</th>\n",
       "      <td>29.000000</td>\n",
       "      <td>0.000000</td>\n",
       "      <td>0.000000</td>\n",
       "      <td>94.000000</td>\n",
       "      <td>126.000000</td>\n",
       "      <td>0.000000</td>\n",
       "      <td>0.000000</td>\n",
       "      <td>71.000000</td>\n",
       "      <td>0.000000</td>\n",
       "      <td>0.000000</td>\n",
       "      <td>0.000000</td>\n",
       "      <td>0.000000</td>\n",
       "      <td>0.000000</td>\n",
       "    </tr>\n",
       "    <tr>\n",
       "      <th>25%</th>\n",
       "      <td>47.500000</td>\n",
       "      <td>0.000000</td>\n",
       "      <td>0.000000</td>\n",
       "      <td>120.000000</td>\n",
       "      <td>211.000000</td>\n",
       "      <td>0.000000</td>\n",
       "      <td>0.000000</td>\n",
       "      <td>133.500000</td>\n",
       "      <td>0.000000</td>\n",
       "      <td>0.000000</td>\n",
       "      <td>1.000000</td>\n",
       "      <td>0.000000</td>\n",
       "      <td>2.000000</td>\n",
       "    </tr>\n",
       "    <tr>\n",
       "      <th>50%</th>\n",
       "      <td>55.000000</td>\n",
       "      <td>1.000000</td>\n",
       "      <td>1.000000</td>\n",
       "      <td>130.000000</td>\n",
       "      <td>240.000000</td>\n",
       "      <td>0.000000</td>\n",
       "      <td>1.000000</td>\n",
       "      <td>153.000000</td>\n",
       "      <td>0.000000</td>\n",
       "      <td>0.800000</td>\n",
       "      <td>1.000000</td>\n",
       "      <td>0.000000</td>\n",
       "      <td>2.000000</td>\n",
       "    </tr>\n",
       "    <tr>\n",
       "      <th>75%</th>\n",
       "      <td>61.000000</td>\n",
       "      <td>1.000000</td>\n",
       "      <td>2.000000</td>\n",
       "      <td>140.000000</td>\n",
       "      <td>274.500000</td>\n",
       "      <td>0.000000</td>\n",
       "      <td>1.000000</td>\n",
       "      <td>166.000000</td>\n",
       "      <td>1.000000</td>\n",
       "      <td>1.600000</td>\n",
       "      <td>2.000000</td>\n",
       "      <td>1.000000</td>\n",
       "      <td>3.000000</td>\n",
       "    </tr>\n",
       "    <tr>\n",
       "      <th>max</th>\n",
       "      <td>77.000000</td>\n",
       "      <td>1.000000</td>\n",
       "      <td>3.000000</td>\n",
       "      <td>200.000000</td>\n",
       "      <td>564.000000</td>\n",
       "      <td>1.000000</td>\n",
       "      <td>2.000000</td>\n",
       "      <td>202.000000</td>\n",
       "      <td>1.000000</td>\n",
       "      <td>6.200000</td>\n",
       "      <td>2.000000</td>\n",
       "      <td>4.000000</td>\n",
       "      <td>3.000000</td>\n",
       "    </tr>\n",
       "  </tbody>\n",
       "</table>\n",
       "</div>"
      ],
      "text/plain": [
       "              age         sex          cp    trestbps        chol         fbs  \\\n",
       "count  303.000000  303.000000  303.000000  303.000000  303.000000  303.000000   \n",
       "mean    54.366337    0.683168    0.966997  131.623762  246.264026    0.148515   \n",
       "std      9.082101    0.466011    1.032052   17.538143   51.830751    0.356198   \n",
       "min     29.000000    0.000000    0.000000   94.000000  126.000000    0.000000   \n",
       "25%     47.500000    0.000000    0.000000  120.000000  211.000000    0.000000   \n",
       "50%     55.000000    1.000000    1.000000  130.000000  240.000000    0.000000   \n",
       "75%     61.000000    1.000000    2.000000  140.000000  274.500000    0.000000   \n",
       "max     77.000000    1.000000    3.000000  200.000000  564.000000    1.000000   \n",
       "\n",
       "          restecg     thalach       exang     oldpeak       slope          ca  \\\n",
       "count  303.000000  303.000000  303.000000  303.000000  303.000000  303.000000   \n",
       "mean     0.528053  149.646865    0.326733    1.039604    1.399340    0.729373   \n",
       "std      0.525860   22.905161    0.469794    1.161075    0.616226    1.022606   \n",
       "min      0.000000   71.000000    0.000000    0.000000    0.000000    0.000000   \n",
       "25%      0.000000  133.500000    0.000000    0.000000    1.000000    0.000000   \n",
       "50%      1.000000  153.000000    0.000000    0.800000    1.000000    0.000000   \n",
       "75%      1.000000  166.000000    1.000000    1.600000    2.000000    1.000000   \n",
       "max      2.000000  202.000000    1.000000    6.200000    2.000000    4.000000   \n",
       "\n",
       "             thal  \n",
       "count  303.000000  \n",
       "mean     2.313531  \n",
       "std      0.612277  \n",
       "min      0.000000  \n",
       "25%      2.000000  \n",
       "50%      2.000000  \n",
       "75%      3.000000  \n",
       "max      3.000000  "
      ]
     },
     "execution_count": 31,
     "metadata": {},
     "output_type": "execute_result"
    }
   ],
   "source": [
    "X.describe()"
   ]
  },
  {
   "cell_type": "code",
   "execution_count": 40,
   "id": "b2b9dcd9",
   "metadata": {},
   "outputs": [
    {
     "data": {
      "text/plain": [
       "-0.2014596901125439"
      ]
     },
     "execution_count": 40,
     "metadata": {},
     "output_type": "execute_result"
    }
   ],
   "source": [
    "skew(df.age)"
   ]
  },
  {
   "cell_type": "code",
   "execution_count": 6,
   "id": "99cc8065",
   "metadata": {},
   "outputs": [],
   "source": [
    "cols=['chol','age','trestbps','thalach','oldpeak']"
   ]
  },
  {
   "cell_type": "code",
   "execution_count": 7,
   "id": "1a0686ae",
   "metadata": {},
   "outputs": [
    {
     "name": "stdout",
     "output_type": "stream",
     "text": [
      "Skew: chol 1.138\n",
      "Skew: age -0.201\n",
      "Skew: trestbps 0.710\n",
      "Skew: thalach -0.535\n",
      "Skew: oldpeak 1.263\n"
     ]
    }
   ],
   "source": [
    "for col in df[cols]:\n",
    "    print(\"Skew: %s %.3f\" % (col,skew(df[col])))\n",
    "    \n",
    "   # print('>%s %.3f (%.3f)' % (name, mean(scores), std(scores)))\n",
    "    #print (skew(col))"
   ]
  },
  {
   "cell_type": "code",
   "execution_count": 8,
   "id": "71e6dc69",
   "metadata": {
    "collapsed": true
   },
   "outputs": [
    {
     "name": "stdout",
     "output_type": "stream",
     "text": [
      "kurtosis: age -0.553\n",
      "kurtosis: sex -1.380\n",
      "kurtosis: cp -1.193\n",
      "kurtosis: trestbps 0.894\n",
      "kurtosis: chol 4.412\n",
      "kurtosis: fbs 1.908\n",
      "kurtosis: restecg -1.360\n",
      "kurtosis: thalach -0.081\n",
      "kurtosis: exang -1.454\n",
      "kurtosis: oldpeak 1.530\n",
      "kurtosis: slope -0.637\n",
      "kurtosis: ca 0.806\n",
      "kurtosis: thal 0.273\n",
      "kurtosis: target -1.968\n"
     ]
    }
   ],
   "source": [
    "for col in df.columns:\n",
    "    print(\"kurtosis: %s %.3f\" % (col,kurtosis(df[col])))"
   ]
  },
  {
   "cell_type": "code",
   "execution_count": 11,
   "id": "f87d176a",
   "metadata": {
    "collapsed": true
   },
   "outputs": [
    {
     "data": {
      "text/plain": [
       "<AxesSubplot: xlabel='heart attack', ylabel='count'>"
      ]
     },
     "execution_count": 11,
     "metadata": {},
     "output_type": "execute_result"
    },
    {
     "data": {
      "image/png": "[encoded data removed]",
      "text/plain": [
       "<Figure size 640x480 with 1 Axes>"
      ]
     },
     "metadata": {},
     "output_type": "display_data"
    }
   ],
   "source": [
    "sns.countplot(x='heart attack',data=df)"
   ]
  },
  {
   "cell_type": "code",
   "execution_count": 12,
   "id": "f64530a6",
   "metadata": {
    "collapsed": true
   },
   "outputs": [
    {
     "data": {
      "image/png": "[encoded data removed]",
      "text/plain": [
       "<Figure size 640x480 with 1 Axes>"
      ]
     },
     "metadata": {},
     "output_type": "display_data"
    }
   ],
   "source": [
    "a=sns.countplot(x='thal',hue='heart attack',data=df)"
   ]
  },
  {
   "cell_type": "code",
   "execution_count": 5,
   "id": "520138cf",
   "metadata": {},
   "outputs": [],
   "source": [
    "myheart = df['heart attack']\n",
    "mychol = df['chol']"
   ]
  },
  {
   "cell_type": "code",
   "execution_count": 6,
   "id": "f0828bb2",
   "metadata": {},
   "outputs": [],
   "source": [
    "heart_0 = myheart == 0\n",
    "heart_1 = myheart == 1"
   ]
  },
  {
   "cell_type": "code",
   "execution_count": 9,
   "id": "724c3aaf",
   "metadata": {},
   "outputs": [
    {
     "data": {
      "image/png": "[encoded data removed]",
      "text/plain": [
       "<Figure size 432x288 with 1 Axes>"
      ]
     },
     "metadata": {
      "needs_background": "light"
     },
     "output_type": "display_data"
    }
   ],
   "source": [
    "plt.hist(mychol[heart_0], edgecolor='blue', alpha=0.5, bins =range(126,564,44) , label='0')\n",
    "plt.hist(mychol[heart_1], edgecolor='blue', alpha=0.5, bins = range(126,564,44) , label='1')\n",
    "plt.legend(loc='upper right')\n",
    "plt.xlabel('chol')\n",
    "plt.ylabel('Frequency')\n",
    "plt.show()"
   ]
  },
  {
   "cell_type": "code",
   "execution_count": 8,
   "id": "82644aa3",
   "metadata": {
    "collapsed": true
   },
   "outputs": [
    {
     "data": {
      "image/png": "[encoded data removed]",
      "text/plain": [
       "<Figure size 432x288 with 1 Axes>"
      ]
     },
     "metadata": {
      "needs_background": "light"
     },
     "output_type": "display_data"
    }
   ],
   "source": [
    "myage = df['age']\n",
    "\n",
    "plt.hist(myage[heart_0], edgecolor='blue', alpha=0.5, bins = range(25,80,6), label='0')\n",
    "plt.hist(myage[heart_1], edgecolor='blue', alpha=0.5, bins = range(25,80,6), label='1')\n",
    "plt.legend(loc='upper right')\n",
    "plt.xlabel('age')\n",
    "plt.ylabel('Frequency')\n",
    "plt.show()"
   ]
  },
  {
   "cell_type": "code",
   "execution_count": 18,
   "id": "d89402f2",
   "metadata": {},
   "outputs": [],
   "source": [
    "cols=['chol','age','trestbps','thalach','oldpeak']"
   ]
  },
  {
   "cell_type": "code",
   "execution_count": 50,
   "id": "22a94f82",
   "metadata": {
    "collapsed": true
   },
   "outputs": [
    {
     "name": "stdout",
     "output_type": "stream",
     "text": [
      "age          52.496970\n",
      "trestbps    129.303030\n",
      "chol        242.230303\n",
      "thalach     158.466667\n",
      "oldpeak       0.583030\n",
      "Name: 1, dtype: float64\n"
     ]
    }
   ],
   "source": [
    "print(dataset.T[1])"
   ]
  },
  {
   "cell_type": "code",
   "execution_count": 20,
   "id": "669687fe",
   "metadata": {},
   "outputs": [],
   "source": [
    "dataset=df.groupby('heart attack')[cols].mean()\n",
    "\n",
    "#dataset=df1.groupby('target').mean()"
   ]
  },
  {
   "cell_type": "code",
   "execution_count": null,
   "id": "23088537",
   "metadata": {},
   "outputs": [],
   "source": [
    "#Differentiate Discrete and Continuous features\n",
    "#Print Discrete Feature Data\n",
    "discrete_feature=[feature for feature in feature_list if len(df[feature].unique())<25]\n",
    "print(\"Discrete Variables Count: {}\".format(len(discrete_feature)))\n",
    "print(\"Discrete features are \",discrete_feature)\n",
    "#Print Continuous Feature Data\n",
    "cont_feature=[feature for feature in feature_list if len(df[feature].unique())>25]\n",
    "print(\"Continuous Variables Count: {}\".format(len(cont_feature)))\n",
    "print(\"Continuous features are \",cont_feature)"
   ]
  },
  {
   "cell_type": "code",
   "execution_count": 22,
   "id": "6bf27008",
   "metadata": {
    "collapsed": true
   },
   "outputs": [
    {
     "data": {
      "image/png": "[encoded data removed]",
      "text/plain": [
       "<Figure size 432x288 with 1 Axes>"
      ]
     },
     "metadata": {
      "needs_background": "light"
     },
     "output_type": "display_data"
    }
   ],
   "source": [
    "indx=np.arange(len(cols))\n",
    "score_label=np.arange(0,270,20)\n",
    "\n",
    "col1=list(dataset.T[1])\n",
    "col2=list(dataset.T[0])\n",
    "bar_width=0.35\n",
    "\n",
    "fig,ax=plt.subplots()\n",
    "bar_1=ax.bar(indx-bar_width/2, col1, bar_width, label='less chance of heart attack')\n",
    "bar_2=ax.bar(indx+bar_width/2, col2, bar_width, label='more chance of heart attack ')\n",
    "\n",
    "#inserting x axis label\n",
    "ax.set_xticks(indx)\n",
    "ax.set_xticklabels(cols)\n",
    "\n",
    "ax.legend()\n",
    "\n",
    "#inserting y axis label\n",
    "ax.set_yticks(score_label)\n",
    "ax.set_yticklabels(score_label)\n",
    "\n",
    "def insert_data_labels(bars):\n",
    "    for bar in bars:\n",
    "        bar_height = bar.get_height()\n",
    "        ax.annotate('{0:.0f}'.format(bar.get_height()),\n",
    "            xy=(bar.get_x() + bar.get_width() / 2, bar_height),\n",
    "            xytext=(0, 3),\n",
    "            textcoords='offset points',\n",
    "            ha='center',\n",
    "            va='bottom'\n",
    "        )\n",
    "\n",
    "insert_data_labels(bar_1)\n",
    "insert_data_labels(bar_2)\n",
    "\n",
    "plt.show()"
   ]
  },
  {
   "cell_type": "code",
   "execution_count": 35,
   "id": "5164d069",
   "metadata": {},
   "outputs": [],
   "source": [
    "def encoding(X):\n",
    "    column_transformer = make_column_transformer( (OneHotEncoder(), [\"slope\",\"ca\",\"thal\",\"cp\",\"restecg\"]),remainder='passthrough')\n",
    "    X = column_transformer.fit_transform(X)\n",
    "    X = pd.DataFrame(data=X, columns=column_transformer.get_feature_names_out())\n",
    "    return X"
   ]
  },
  {
   "cell_type": "code",
   "execution_count": 36,
   "id": "32a5ac6e",
   "metadata": {},
   "outputs": [],
   "source": [
    "X=encoding(X)\n",
    "X_train, X_test, y_train, y_test = train_test_split( X, y, test_size=0.2,stratify=y, random_state=42)"
   ]
  },
  {
   "cell_type": "code",
   "execution_count": 37,
   "id": "8046648b",
   "metadata": {},
   "outputs": [],
   "source": [
    "numerical_ix=['remainder__thalach','remainder__age','remainder__trestbps','remainder__chol','remainder__oldpeak']\n",
    "preprocessor_ = ColumnTransformer(transformers =[('scale',StandardScaler(), numerical_ix)],remainder ='passthrough')"
   ]
  },
  {
   "cell_type": "code",
   "execution_count": 8,
   "id": "e30cf7ea",
   "metadata": {},
   "outputs": [
    {
     "name": "stdout",
     "output_type": "stream",
     "text": [
      ">Random forest 0.809 (0.101)\n",
      ">DecisionTree 0.760 (0.070)\n",
      ">xgboost 0.806 (0.095)\n",
      ">svm 0.830 (0.069)\n",
      ">log_reg 0.843 (0.058)\n",
      ">GaussianNB 0.731 (0.101)\n",
      ">Adaboost 0.753 (0.076)\n",
      ">Voting 0.798 (0.056)\n"
     ]
    }
   ],
   "source": [
    "preprocessor_ = ColumnTransformer(transformers =[('scale',StandardScaler(), numerical_ix)],remainder ='passthrough')\n",
    "def get_models():\n",
    "    models = dict()\n",
    "    models['Random forest'] = RandomForestClassifier()\n",
    "    models['DecisionTree'] = DecisionTreeClassifier()\n",
    "    models['xgboost'] = xgb.XGBClassifier(random_state=42)\n",
    "    models['svm'] = Pipeline(steps=[('preprocessor_',preprocessor_),('m',SVC())])\n",
    "    models['log_reg'] = Pipeline(steps=[('preprocessor_',preprocessor_),('m',LogisticRegression())])\n",
    "    models['GaussianNB'] = Pipeline(steps=[('preprocessor_',preprocessor_),('m', GaussianNB())])\n",
    "    models['Adaboost'] = AdaBoostClassifier(random_state=42)\n",
    "\n",
    "    lr= LogisticRegression()\n",
    "    dtc = DecisionTreeClassifier() \n",
    "    kn=KNeighborsClassifier(n_neighbors=1)\n",
    "    base_methods=[('pipe_lr', lr),('DecisionTree',dtc),('pipe_Kn',kn)]\n",
    "    vote_model=VotingClassifier(estimators=base_methods,voting='hard')\n",
    "    models['Voting'] = Pipeline(steps=[('preprocessor_',preprocessor_),('m',vote_model)])\n",
    "    return models\n",
    " \n",
    "def evaluate_model(model, X, y):\n",
    "    cv = KFold(n_splits=10,shuffle=True)\n",
    "    scores = cross_val_score(model, X, y, scoring='accuracy', cv=cv, n_jobs=-1)\n",
    "    return scores\n",
    " \n",
    "models = get_models()\n",
    "results, names = list(), list()\n",
    "for name, model in models.items():\n",
    "    scores = evaluate_model(model, X_train, y_train)\n",
    "    results.append(scores)\n",
    "    names.append(name)\n",
    "    print('>%s %.3f (%.3f)' % (name, mean(scores), std(scores)))"
   ]
  },
  {
   "cell_type": "code",
   "execution_count": 8,
   "id": "60ccab66",
   "metadata": {
    "collapsed": true
   },
   "outputs": [
    {
     "name": "stdout",
     "output_type": "stream",
     "text": [
      ">5 0.806 (0.065)\n",
      ">6 0.827 (0.058)\n",
      ">7 0.843 (0.076)\n",
      ">8 0.831 (0.077)\n",
      ">9 0.831 (0.073)\n",
      ">10 0.843 (0.075)\n",
      ">11 0.839 (0.069)\n",
      ">12 0.839 (0.062)\n",
      ">13 0.835 (0.066)\n",
      ">14 0.831 (0.059)\n",
      ">15 0.827 (0.064)\n",
      ">16 0.831 (0.065)\n",
      ">17 0.823 (0.063)\n",
      ">18 0.822 (0.059)\n",
      ">19 0.827 (0.054)\n",
      ">20 0.831 (0.072)\n",
      ">21 0.823 (0.058)\n",
      ">22 0.827 (0.060)\n",
      ">23 0.839 (0.075)\n"
     ]
    }
   ],
   "source": [
    "def get_models():\n",
    "    models = dict()\n",
    "    for i in range(5,24):\n",
    "        rfe = RFE(estimator=DecisionTreeClassifier(), n_features_to_select=i)\n",
    "        model = LogisticRegression()\n",
    "        models[str(i)] = Pipeline(steps=[(\"preprocessor_\", preprocessor_),('s',rfe),('m',model)])\n",
    "    return models\n",
    "\n",
    "def evaluate_model(model, X, y):\n",
    "    cv = KFold(n_splits=10,shuffle=True,random_state=40)\n",
    "    scores = cross_val_score(model, X, y, scoring='accuracy', cv=cv, n_jobs=-1, error_score='raise')\n",
    "    return scores\n",
    "\n",
    "models = get_models()\n",
    "results, names = list(), list()\n",
    "for name, model in models.items():\n",
    "    scores = evaluate_model(model, X_train, y_train)\n",
    "    results.append(scores)\n",
    "    names.append(name)\n",
    "    print('>%s %.3f (%.3f)' % (name, mean(scores), std(scores)))"
   ]
  },
  {
   "cell_type": "code",
   "execution_count": 11,
   "id": "e73461d1",
   "metadata": {
    "collapsed": true
   },
   "outputs": [
    {
     "name": "stdout",
     "output_type": "stream",
     "text": [
      ">lr 0.810 (0.072)\n",
      ">per 0.785 (0.083)\n",
      ">dtc 0.790 (0.098)\n",
      ">rf 0.760 (0.062)\n",
      ">xgb 0.794 (0.075)\n"
     ]
    }
   ],
   "source": [
    "model=SVC()\n",
    "import xgboost as xgb\n",
    "from sklearn.linear_model import Perceptron\n",
    "\n",
    "def get_models():\n",
    "    models = dict()    \n",
    "    rfe = RFE(estimator=LogisticRegression(max_iter=400), n_features_to_select=7)\n",
    "    models['lr'] = Pipeline(steps=[('preprocessor_',preprocessor_),('rfe',rfe),('m',model)])\n",
    "  \n",
    "    rfe = RFE(estimator=Perceptron(), n_features_to_select=7)  \n",
    "    models['per'] = Pipeline(steps=[('preprocessor_',preprocessor_),('rfe',rfe),('m',model)])\n",
    "    \n",
    "    rfe = RFE(estimator=DecisionTreeClassifier(), n_features_to_select=7)\n",
    "    models['dtc'] = Pipeline(steps=[('preprocessor_',preprocessor_),('rfe',rfe),('m',model)])\n",
    "    \n",
    "    rfe = RFE(estimator=RandomForestClassifier(), n_features_to_select=7)\n",
    "    models['rf'] = Pipeline(steps=[('preprocessor_',preprocessor_),('rfe',rfe),('m',model)])\n",
    "    \n",
    "    rfe = RFE(estimator=xgb.XGBClassifier(), n_features_to_select=7)\n",
    "    models['xgb'] = Pipeline(steps=[('preprocessor_',preprocessor_),('rfe',rfe),('m',model)])\n",
    "\n",
    "    return models\n",
    "\n",
    "def evaluate_model(model, X, y):\n",
    "    cv = KFold(n_splits=10,shuffle=True)\n",
    "    scores = cross_val_score(model, X, y, scoring='accuracy', cv=cv, n_jobs=-1)\n",
    "    return scores\n",
    " \n",
    "models = get_models()\n",
    "results, names = list(), list()\n",
    "for name, model in models.items():\n",
    "    scores = evaluate_model(model, X_train, y_train)\n",
    "    results.append(scores)\n",
    "    names.append(name)\n",
    "    print('>%s %.3f (%.3f)' % (name, mean(scores), std(scores)))"
   ]
  },
  {
   "cell_type": "code",
   "execution_count": 12,
   "id": "cfd520ed",
   "metadata": {},
   "outputs": [
    {
     "name": "stdout",
     "output_type": "stream",
     "text": [
      "OrderedDict([('model__C', 10.0), ('model__gamma', 0.001), ('model__kernel', 'rbf')])\n",
      "0.8428333333333333\n"
     ]
    }
   ],
   "source": [
    "solver=['newton-cg', 'lbfgs', 'liblinear']\n",
    "\n",
    "random_grid = {'rfe__estimator__C':[0.001,0.01,0.1,1,10,100,1000],'rfe__estimator__solver':solver,\n",
    "               'rfe__n_features_to_select':[4,5,6,7,8],\n",
    "               'model__C': [0.01,0.1, 1, 10, 100, 1000],\n",
    "               'model__gamma': [1, 0.1, 0.01, 0.001, 0.0001],'model__kernel': ['rbf']}\n",
    "\n",
    "rfe = RFE(estimator=LogisticRegression(max_iter=400))\n",
    "model = SVC()\n",
    "\n",
    "model_pipeline = Pipeline(steps =[(\"preprocessor_\", preprocessor_),\n",
    "                                  ('rfe',rfe),\n",
    "                                  ('model', model)])\n",
    "cv = KFold(n_splits=10,shuffle=True)\n",
    "opt = BayesSearchCV( model_pipeline,[(random_grid, 20)],cv=cv,scoring='accuracy')\n",
    "opt.fit(X_train, y_train)\n",
    "\n",
    "print(opt.best_params_)\n",
    "print(opt.best_score_)"
   ]
  },
  {
   "cell_type": "code",
   "execution_count": 24,
   "id": "895fddfe",
   "metadata": {
    "collapsed": true
   },
   "outputs": [
    {
     "name": "stderr",
     "output_type": "stream",
     "text": [
      "C:\\Users\\ANESTIS\\anaconda3\\lib\\site-packages\\skopt\\optimizer\\optimizer.py:449: UserWarning: The objective has been evaluated at this point before.\n",
      "  warnings.warn(\"The objective has been evaluated \"\n",
      "C:\\Users\\ANESTIS\\anaconda3\\lib\\site-packages\\skopt\\optimizer\\optimizer.py:449: UserWarning: The objective has been evaluated at this point before.\n",
      "  warnings.warn(\"The objective has been evaluated \"\n",
      "C:\\Users\\ANESTIS\\anaconda3\\lib\\site-packages\\skopt\\optimizer\\optimizer.py:449: UserWarning: The objective has been evaluated at this point before.\n",
      "  warnings.warn(\"The objective has been evaluated \"\n",
      "C:\\Users\\ANESTIS\\anaconda3\\lib\\site-packages\\skopt\\optimizer\\optimizer.py:449: UserWarning: The objective has been evaluated at this point before.\n",
      "  warnings.warn(\"The objective has been evaluated \"\n",
      "C:\\Users\\ANESTIS\\anaconda3\\lib\\site-packages\\skopt\\optimizer\\optimizer.py:449: UserWarning: The objective has been evaluated at this point before.\n",
      "  warnings.warn(\"The objective has been evaluated \"\n",
      "C:\\Users\\ANESTIS\\anaconda3\\lib\\site-packages\\skopt\\optimizer\\optimizer.py:449: UserWarning: The objective has been evaluated at this point before.\n",
      "  warnings.warn(\"The objective has been evaluated \"\n",
      "C:\\Users\\ANESTIS\\anaconda3\\lib\\site-packages\\skopt\\optimizer\\optimizer.py:449: UserWarning: The objective has been evaluated at this point before.\n",
      "  warnings.warn(\"The objective has been evaluated \"\n",
      "C:\\Users\\ANESTIS\\anaconda3\\lib\\site-packages\\skopt\\optimizer\\optimizer.py:449: UserWarning: The objective has been evaluated at this point before.\n",
      "  warnings.warn(\"The objective has been evaluated \"\n",
      "C:\\Users\\ANESTIS\\anaconda3\\lib\\site-packages\\skopt\\optimizer\\optimizer.py:449: UserWarning: The objective has been evaluated at this point before.\n",
      "  warnings.warn(\"The objective has been evaluated \"\n",
      "C:\\Users\\ANESTIS\\anaconda3\\lib\\site-packages\\skopt\\optimizer\\optimizer.py:449: UserWarning: The objective has been evaluated at this point before.\n",
      "  warnings.warn(\"The objective has been evaluated \"\n"
     ]
    },
    {
     "name": "stdout",
     "output_type": "stream",
     "text": [
      "OrderedDict([('model__C', 0.01), ('model__solver', 'liblinear')])\n",
      "0.8511666666666666\n"
     ]
    }
   ],
   "source": [
    "solver=['newton-cg', 'lbfgs', 'liblinear']\n",
    "n_estimators=[150,200,250,300,450]\n",
    "max_features = ['auto', 'sqrt']\n",
    "min_samples_split = [2,5, 10]\n",
    "min_samples_leaf = [1, 2,3, 4]\n",
    "bootstrap = [True, False]\n",
    "random_grid = {'rfe__estimator__C':[0.001,0.01,0.1,1,10,100,1000],'rfe__estimator__solver':solver,\n",
    "               'rfe__n_features_to_select':[5,6,7,8,9],\n",
    "               'model__solver':solver,'model__C':[0.001,0.01,0.1,1,10,100,1000]}\n",
    "\n",
    "rfe = RFE(estimator=LogisticRegression(max_iter=400))\n",
    "model = LogisticRegression(max_iter=400)\n",
    "\n",
    "model_pipeline = Pipeline(steps =[(\"preprocessor_\", preprocessor_),\n",
    "                                               ('rfe',rfe),('model', model)])\n",
    "cv = KFold(n_splits=10,shuffle=True)\n",
    "opt = BayesSearchCV( model_pipeline,[(random_grid, 30)],cv=cv,scoring='accuracy')\n",
    "opt.fit(X_train, y_train)\n",
    "\n",
    "print(opt.best_params_)\n",
    "print(opt.best_score_)"
   ]
  },
  {
   "cell_type": "code",
   "execution_count": 40,
   "id": "858a34a0",
   "metadata": {},
   "outputs": [
    {
     "name": "stdout",
     "output_type": "stream",
     "text": [
      "[[ 88  22]\n",
      " [ 14 118]]\n",
      " Accuracy on training set are 0.8512396694214877\n",
      "[[19  9]\n",
      " [ 1 32]]\n",
      " Accuracy on test set are 0.8360655737704918\n",
      "              precision    recall  f1-score   support\n",
      "\n",
      "           0       0.95      0.68      0.79        28\n",
      "           1       0.78      0.97      0.86        33\n",
      "\n",
      "    accuracy                           0.84        61\n",
      "   macro avg       0.87      0.82      0.83        61\n",
      "weighted avg       0.86      0.84      0.83        61\n",
      "\n"
     ]
    }
   ],
   "source": [
    "#rfe = RFE(estimator=LogisticRegression(C=0.01,solver='liblinear',max_iter=400), n_features_to_select=8) #SVC\n",
    "rfe = RFE(estimator=LogisticRegression(C=0.01,solver='newton-cg',max_iter=400), n_features_to_select=7) #LR\n",
    "\n",
    "\n",
    "model = LogisticRegression(C=0.1,solver='lbfgs',max_iter=400)#with rfe\n",
    "\n",
    "#model= SVC(C=10,gamma=0.001)#with rfe\n",
    "\n",
    "pipeline_model = Pipeline(steps=[ (\"preprocessor_\", preprocessor_),('rfe',rfe),('model',model)])\n",
    "\n",
    "pipeline_model.fit(X_train, y_train)\n",
    "\n",
    "y_pred_train=pipeline_model.predict(X_train)\n",
    "\n",
    "conf_pred_train=confusion_matrix(y_train,y_pred_train)\n",
    "print(conf_pred_train)\n",
    "\n",
    "score_train=accuracy_score(y_train,y_pred_train)\n",
    "print(\" Accuracy on training set are {}\".format(score_train))\n",
    "y_pred_test = pipeline_model.predict(X_test)\n",
    "\n",
    "conf_pred_test = confusion_matrix(y_test, y_pred_test) \n",
    "print(conf_pred_test)\n",
    "\n",
    "score=accuracy_score(y_test,y_pred_test)\n",
    "print(\" Accuracy on test set are {}\".format(score))\n",
    "print(classification_report(y_test, y_pred_test))"
   ]
  },
  {
   "cell_type": "code",
   "execution_count": 41,
   "id": "d9dc3cd3",
   "metadata": {},
   "outputs": [
    {
     "data": {
      "text/plain": [
       "(0.9696969696969697, 0.6785714285714286)"
      ]
     },
     "execution_count": 41,
     "metadata": {},
     "output_type": "execute_result"
    }
   ],
   "source": [
    "recall_sensitivity = recall_score(y_test, y_pred_test, pos_label=1)\n",
    "\n",
    "recall_specificity = recall_score(y_test, y_pred_test, pos_label=0)\n",
    "\n",
    "recall_sensitivity, recall_specificity "
   ]
  },
  {
   "cell_type": "code",
   "execution_count": 8,
   "id": "bc500fb6",
   "metadata": {},
   "outputs": [],
   "source": [
    "rfe_svc = RFE(estimator=LogisticRegression(C=0.01,solver='liblinear',max_iter=400), n_features_to_select=8) #SVC\n",
    "rfe_lr = RFE(estimator=LogisticRegression(C=0.01,solver='newton-cg',max_iter=400), n_features_to_select=7) #LR\n",
    "\n",
    "model_svc= SVC(C=10,gamma=0.001,probability=True)#with rfe\n",
    "pipeline_model_svc = Pipeline(steps=[ (\"preprocessor_\", preprocessor_),('rfe_svc',rfe_svc),('model_svc',model_svc)])\n",
    "\n",
    "model_lr = LogisticRegression(C=0.1,solver='lbfgs',max_iter=400)#with rfe\n",
    "pipeline_model_lr = Pipeline(steps=[ (\"preprocessor_\", preprocessor_),('rfe_lr',rfe_lr),('model_lr',model_lr)])"
   ]
  },
  {
   "cell_type": "code",
   "execution_count": 10,
   "id": "0cdb0fe5",
   "metadata": {},
   "outputs": [],
   "source": [
    "model_lr=pipeline_model_lr.fit(X_train, y_train)\n",
    "probs_lr = model_lr.predict_proba(X_test)[:, 1]\n",
    "\n",
    "model_svc =  pipeline_model_svc.fit(X_train, y_train)\n",
    "probs_svc = model_svc.predict_proba(X_test)[:, 1]"
   ]
  },
  {
   "cell_type": "code",
   "execution_count": 27,
   "id": "ba4f31cb",
   "metadata": {},
   "outputs": [
    {
     "data": {
      "image/png": "[encoded data removed]",
      "text/plain": [
       "<Figure size 504x288 with 1 Axes>"
      ]
     },
     "metadata": {
      "needs_background": "light"
     },
     "output_type": "display_data"
    }
   ],
   "source": [
    "from sklearn.metrics import roc_auc_score, roc_curve\n",
    "\n",
    "auc_lr = roc_auc_score(y_test, probs_lr)\n",
    "fpr_lr, tpr_lr, thresholds_lr = roc_curve(y_test, probs_lr)\n",
    "\n",
    "auc_svc = roc_auc_score(y_test, probs_svc)\n",
    "fpr_svc, tpr_svc, thresholds_svc = roc_curve(y_test, probs_svc)\n",
    "\n",
    "plt.figure(figsize=(7, 4))\n",
    "\n",
    "plt.plot(fpr_lr, tpr_lr, label=f'Logistic Regression (AUC = {auc_lr:.3f})')\n",
    "plt.plot(fpr_svc, tpr_svc, label=f'Support Vector Machine (AUC = {auc_svc:.3f})')\n",
    "plt.plot([0, 1], [0, 1], color='blue', linestyle='--', label='Baseline')\n",
    "plt.title('ROC Curve', size=20)\n",
    "plt.xlabel('False Positive Rate', size=14)\n",
    "plt.ylabel('True Positive Rate', size=14)\n",
    "plt.legend();"
   ]
  },
  {
   "cell_type": "code",
   "execution_count": 15,
   "id": "e29bdaee",
   "metadata": {},
   "outputs": [
    {
     "name": "stdout",
     "output_type": "stream",
     "text": [
      "Num Features: 8\n",
      "Selected Features: [False False  True False False  True  True  True False  True False False\n",
      " False False False False False False False False  True  True  True]\n",
      "Feature Ranking: [14  4  1 15 11  1  1  1  3  1  5  7  2 16  8  6 10 13 12  9  1  1  1]\n",
      "Index(['onehotencoder__slope_2', 'onehotencoder__thal_2',\n",
      "       'onehotencoder__thal_3', 'onehotencoder__cp_0', 'onehotencoder__cp_2',\n",
      "       'remainder__exang', 'remainder__oldpeak', 'remainder__ca'],\n",
      "      dtype='object')\n"
     ]
    }
   ],
   "source": [
    "rfe = RFE(estimator=LogisticRegression(C=0.01,solver='liblinear',max_iter=400), n_features_to_select=8) #SVC\n",
    "#rfe = RFE(estimator=LogisticRegression(C=0.01,solver='newton-cg',max_iter=400), n_features_to_select=7) #LR\n",
    "\n",
    "fit = rfe.fit(X_train, y_train)\n",
    "print(\"Num Features: %d\" % fit.n_features_)\n",
    "print(\"Selected Features: %s\" % fit.support_)\n",
    "print(\"Feature Ranking: %s\" % fit.ranking_)\n",
    "print(X_train.columns[rfe.support_])"
   ]
  }
 ],
 "metadata": {
  "kernelspec": {
   "display_name": "Python 3.9.0 64-bit",
   "language": "python",
   "name": "python3"
  },
  "language_info": {
   "codemirror_mode": {
    "name": "ipython",
    "version": 3
   },
   "file_extension": ".py",
   "mimetype": "text/x-python",
   "name": "python",
   "nbconvert_exporter": "python",
   "pygments_lexer": "ipython3",
   "version": "3.9.0"
  },
  "vscode": {
   "interpreter": {
    "hash": "abad5c3aab75dee512ea2e30645d6b966d34812b1dc169b64af11f3db3d1a3aa"
   }
  }
 },
 "nbformat": 4,
 "nbformat_minor": 5
}
